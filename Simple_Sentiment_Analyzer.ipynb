{
 "cells": [
  {
   "cell_type": "markdown",
   "metadata": {},
   "source": [
    "Equipo 2:\n",
    "\n",
    "Álvaro Martín López \n",
    "\n",
    "Daniel Pérez Martínez"
   ]
  },
  {
   "cell_type": "markdown",
   "metadata": {},
   "source": [
    "# ANALIZADOR DE SENTIMIENTO (NLP con Python)"
   ]
  },
  {
   "cell_type": "markdown",
   "metadata": {},
   "source": [
    "![title](resources/Images/0_Portada.jpg)"
   ]
  },
  {
   "cell_type": "markdown",
   "metadata": {},
   "source": [
    "## INTRODUCCIÓN"
   ]
  },
  {
   "cell_type": "markdown",
   "metadata": {},
   "source": [
    "En este informe se verá todo el proceso necesario para crear un analizador de sentimiento en Python. Este proceso comprende desde la búsqueda y exploración del conjunto de datos hasta la visualización del resultado final.\n",
    "\n",
    "En concreto, primero veremos cómo obtener datos de entrenamiento para nuestro modelo y cómo debemos ajustarlos para un correcto funcionamiento del mismo.\n",
    "\n",
    "Posteriormente, veremos el pre-procesamiento necesario en estos datos de cara al NLP, para lo que utilizaremos funcionalidades de las librerías _pandas_ , _spaCy_ y _sklearn_ principalmente\n",
    "\n",
    "Una vez tengamos el conjunto de datos listo, procederemos a crear nuestro modelo y a entrenarlo con los datos obtenidos.\n",
    "\n",
    "Por último, realizaremos una predicción para comprobar la precisión de nuestro modelo.\n",
    "\n",
    "También se incluye un apartado con consideraciones varias"
   ]
  },
  {
   "cell_type": "markdown",
   "metadata": {},
   "source": [
    "## EXPLORACIÓN DE DATOS"
   ]
  },
  {
   "cell_type": "markdown",
   "metadata": {},
   "source": [
    "Nuestro modelo clasificador utiliza el paradigma del aprendizaje supervisado. Esto significa que tenemos que aportarle como entrada un conjunto de datos etiquetados. "
   ]
  },
  {
   "cell_type": "markdown",
   "metadata": {},
   "source": [
    "#### Obtención de datos"
   ]
  },
  {
   "cell_type": "markdown",
   "metadata": {},
   "source": [
    "En nuestro caso, este conjunto de datos será una colección de frases con su correspondiente etiqueta indicando el sentimiento de la misma.\n",
    "\n",
    "Para ello, nos apoyaremos en kaggle.com. Kaggle, una subsidiaria de Google LLC, es una comunidad en línea de científicos de datos y profesionales del aprendizaje de máquinas. Kaggle permite a los usuarios encontrar y publicar conjuntos de datos, explorar y construir modelos en un entorno de ciencia de datos basado en la web, trabajar con otros científicos de datos e ingenieros de aprendizaje de máquinas, y participar en competiciones para resolver los desafíos de la ciencia de datos. \n",
    "\n",
    "Así pues, buscaremos algún conjunto de datos que nos valga, como https://www.kaggle.com/c/spanish-arilines-tweets-sentiment-analysis/data\n",
    "\n",
    "Este conjunto consiste en diversos tweets en español acerca de las experiencias de viajeros con distintas compañias. Como podemos ver en la preview de Kaggle, contamos con varias versiones que añaden campos extra, como si los tweets son respuestas a otros, las localizaciones de los mismo... En el caso que nos ocupa solo queremos el texto y la etiqueta:\n",
    "\n",
    "![title](resources/Images/1_Kaggle_Preview.png)\n",
    "\n",
    "\n",
    "En la imagen superior podemos ver los porcentajes de tweets de cada tipo. Como se puede observar, las negativas son  más frecuentes que las neutrales o positivas, algo que puede afectar al modelo. También podemos ver que no hay valores nulos o que falten, algo que no sería deseable tampoco. Por último, vemos que aparte de \"text\" y \"airline_sentiment\", los campos que nos sirven para el caso que nos ocupa, también contamos con otros campos extra de los que nos desharemos a continuación.\n",
    "\n",
    "Sin embargo, no siempre se dispone de las herramientas de kaggle para poder ver estos datos pues, en muchas ocasiones, el conjunto de datos de entrada lo habremos generado nosotros mismos. Veamos cómo explorar estos datos a mano ayudandonos de la librería *pandas*"
   ]
  },
  {
   "cell_type": "code",
   "execution_count": 1,
   "metadata": {},
   "outputs": [
    {
     "data": {
      "text/html": [
       "<div>\n",
       "<style scoped>\n",
       "    .dataframe tbody tr th:only-of-type {\n",
       "        vertical-align: middle;\n",
       "    }\n",
       "\n",
       "    .dataframe tbody tr th {\n",
       "        vertical-align: top;\n",
       "    }\n",
       "\n",
       "    .dataframe thead th {\n",
       "        text-align: right;\n",
       "    }\n",
       "</style>\n",
       "<table border=\"1\" class=\"dataframe\">\n",
       "  <thead>\n",
       "    <tr style=\"text-align: right;\">\n",
       "      <th></th>\n",
       "      <th>airline_sentiment</th>\n",
       "      <th>is_reply</th>\n",
       "      <th>reply_count</th>\n",
       "      <th>retweet_count</th>\n",
       "      <th>text</th>\n",
       "      <th>tweet_coord</th>\n",
       "      <th>tweet_created</th>\n",
       "      <th>tweet_id</th>\n",
       "      <th>tweet_location</th>\n",
       "      <th>user_timezone</th>\n",
       "    </tr>\n",
       "  </thead>\n",
       "  <tbody>\n",
       "    <tr>\n",
       "      <th>0</th>\n",
       "      <td>neutral</td>\n",
       "      <td>False</td>\n",
       "      <td>0</td>\n",
       "      <td>0</td>\n",
       "      <td>Trabajar en #Ryanair como #TMA: https://t.co/r...</td>\n",
       "      <td>NaN</td>\n",
       "      <td>Fri Nov 03 12:05:12 +0000 2017</td>\n",
       "      <td>926419989107798016</td>\n",
       "      <td>NaN</td>\n",
       "      <td>Madrid</td>\n",
       "    </tr>\n",
       "    <tr>\n",
       "      <th>1</th>\n",
       "      <td>neutral</td>\n",
       "      <td>True</td>\n",
       "      <td>0</td>\n",
       "      <td>0</td>\n",
       "      <td>@Iberia @FIONAFERRER Cuando gusten en Cancún s...</td>\n",
       "      <td>NaN</td>\n",
       "      <td>Sun Nov 26 18:40:28 +0000 2017</td>\n",
       "      <td>934854385577943041</td>\n",
       "      <td>NaN</td>\n",
       "      <td>Mexico City</td>\n",
       "    </tr>\n",
       "    <tr>\n",
       "      <th>2</th>\n",
       "      <td>negative</td>\n",
       "      <td>False</td>\n",
       "      <td>0</td>\n",
       "      <td>0</td>\n",
       "      <td>Sabiais que @Iberia te trata muy bien en santi...</td>\n",
       "      <td>NaN</td>\n",
       "      <td>Mon Dec 25 15:40:45 +0000 2017</td>\n",
       "      <td>945318406441635840</td>\n",
       "      <td>NaN</td>\n",
       "      <td>Madrid</td>\n",
       "    </tr>\n",
       "    <tr>\n",
       "      <th>3</th>\n",
       "      <td>negative</td>\n",
       "      <td>False</td>\n",
       "      <td>0</td>\n",
       "      <td>0</td>\n",
       "      <td>NUNCA NUNCA NUNCA pidáis el café de Ryanair.\\n...</td>\n",
       "      <td>NaN</td>\n",
       "      <td>Mon Nov 06 14:18:35 +0000 2017</td>\n",
       "      <td>927540721296568320</td>\n",
       "      <td>NaN</td>\n",
       "      <td>Pacific Time (US &amp; Canada)</td>\n",
       "    </tr>\n",
       "    <tr>\n",
       "      <th>4</th>\n",
       "      <td>positive</td>\n",
       "      <td>True</td>\n",
       "      <td>0</td>\n",
       "      <td>0</td>\n",
       "      <td>@cris_tortu @dakar @Iberia @Mitsubishi_ES @BFG...</td>\n",
       "      <td>NaN</td>\n",
       "      <td>Mon Jan 01 23:00:57 +0000 2018</td>\n",
       "      <td>947965901332197376</td>\n",
       "      <td>NaN</td>\n",
       "      <td>Buenos Aires</td>\n",
       "    </tr>\n",
       "  </tbody>\n",
       "</table>\n",
       "</div>"
      ],
      "text/plain": [
       "  airline_sentiment  is_reply  reply_count  retweet_count  \\\n",
       "0           neutral     False            0              0   \n",
       "1           neutral      True            0              0   \n",
       "2          negative     False            0              0   \n",
       "3          negative     False            0              0   \n",
       "4          positive      True            0              0   \n",
       "\n",
       "                                                text tweet_coord  \\\n",
       "0  Trabajar en #Ryanair como #TMA: https://t.co/r...         NaN   \n",
       "1  @Iberia @FIONAFERRER Cuando gusten en Cancún s...         NaN   \n",
       "2  Sabiais que @Iberia te trata muy bien en santi...         NaN   \n",
       "3  NUNCA NUNCA NUNCA pidáis el café de Ryanair.\\n...         NaN   \n",
       "4  @cris_tortu @dakar @Iberia @Mitsubishi_ES @BFG...         NaN   \n",
       "\n",
       "                    tweet_created            tweet_id tweet_location  \\\n",
       "0  Fri Nov 03 12:05:12 +0000 2017  926419989107798016            NaN   \n",
       "1  Sun Nov 26 18:40:28 +0000 2017  934854385577943041            NaN   \n",
       "2  Mon Dec 25 15:40:45 +0000 2017  945318406441635840            NaN   \n",
       "3  Mon Nov 06 14:18:35 +0000 2017  927540721296568320            NaN   \n",
       "4  Mon Jan 01 23:00:57 +0000 2018  947965901332197376            NaN   \n",
       "\n",
       "                user_timezone  \n",
       "0                      Madrid  \n",
       "1                 Mexico City  \n",
       "2                      Madrid  \n",
       "3  Pacific Time (US & Canada)  \n",
       "4                Buenos Aires  "
      ]
     },
     "execution_count": 1,
     "metadata": {},
     "output_type": "execute_result"
    }
   ],
   "source": [
    "import pandas as pd\n",
    "\n",
    "data = pd.read_csv('resources/tweets_public.csv')\n",
    "data.head()"
   ]
  },
  {
   "cell_type": "markdown",
   "metadata": {},
   "source": [
    "Primero nos desharemos de las columnas que no nos interesan para nuestro caso y cambiaremos el nombre de una a algo más accesible"
   ]
  },
  {
   "cell_type": "code",
   "execution_count": 2,
   "metadata": {},
   "outputs": [
    {
     "data": {
      "text/html": [
       "<div>\n",
       "<style scoped>\n",
       "    .dataframe tbody tr th:only-of-type {\n",
       "        vertical-align: middle;\n",
       "    }\n",
       "\n",
       "    .dataframe tbody tr th {\n",
       "        vertical-align: top;\n",
       "    }\n",
       "\n",
       "    .dataframe thead th {\n",
       "        text-align: right;\n",
       "    }\n",
       "</style>\n",
       "<table border=\"1\" class=\"dataframe\">\n",
       "  <thead>\n",
       "    <tr style=\"text-align: right;\">\n",
       "      <th></th>\n",
       "      <th>sentiment</th>\n",
       "      <th>text</th>\n",
       "    </tr>\n",
       "  </thead>\n",
       "  <tbody>\n",
       "    <tr>\n",
       "      <th>0</th>\n",
       "      <td>neutral</td>\n",
       "      <td>Trabajar en #Ryanair como #TMA: https://t.co/r...</td>\n",
       "    </tr>\n",
       "    <tr>\n",
       "      <th>1</th>\n",
       "      <td>neutral</td>\n",
       "      <td>@Iberia @FIONAFERRER Cuando gusten en Cancún s...</td>\n",
       "    </tr>\n",
       "    <tr>\n",
       "      <th>2</th>\n",
       "      <td>negative</td>\n",
       "      <td>Sabiais que @Iberia te trata muy bien en santi...</td>\n",
       "    </tr>\n",
       "    <tr>\n",
       "      <th>3</th>\n",
       "      <td>negative</td>\n",
       "      <td>NUNCA NUNCA NUNCA pidáis el café de Ryanair.\\n...</td>\n",
       "    </tr>\n",
       "    <tr>\n",
       "      <th>4</th>\n",
       "      <td>positive</td>\n",
       "      <td>@cris_tortu @dakar @Iberia @Mitsubishi_ES @BFG...</td>\n",
       "    </tr>\n",
       "  </tbody>\n",
       "</table>\n",
       "</div>"
      ],
      "text/plain": [
       "  sentiment                                               text\n",
       "0   neutral  Trabajar en #Ryanair como #TMA: https://t.co/r...\n",
       "1   neutral  @Iberia @FIONAFERRER Cuando gusten en Cancún s...\n",
       "2  negative  Sabiais que @Iberia te trata muy bien en santi...\n",
       "3  negative  NUNCA NUNCA NUNCA pidáis el café de Ryanair.\\n...\n",
       "4  positive  @cris_tortu @dakar @Iberia @Mitsubishi_ES @BFG..."
      ]
     },
     "execution_count": 2,
     "metadata": {},
     "output_type": "execute_result"
    }
   ],
   "source": [
    "data = data[['airline_sentiment','text']]\n",
    "data.rename(columns = {'airline_sentiment' : 'sentiment'}, inplace = True)\n",
    "data.head()"
   ]
  },
  {
   "cell_type": "markdown",
   "metadata": {},
   "source": [
    "Veamos ahora si tenemos algún valor nulo o que no encaje aunque, como ya sabíamos, no los hay:"
   ]
  },
  {
   "cell_type": "code",
   "execution_count": 3,
   "metadata": {},
   "outputs": [
    {
     "data": {
      "text/html": [
       "<div>\n",
       "<style scoped>\n",
       "    .dataframe tbody tr th:only-of-type {\n",
       "        vertical-align: middle;\n",
       "    }\n",
       "\n",
       "    .dataframe tbody tr th {\n",
       "        vertical-align: top;\n",
       "    }\n",
       "\n",
       "    .dataframe thead th {\n",
       "        text-align: right;\n",
       "    }\n",
       "</style>\n",
       "<table border=\"1\" class=\"dataframe\">\n",
       "  <thead>\n",
       "    <tr style=\"text-align: right;\">\n",
       "      <th></th>\n",
       "      <th>sentiment</th>\n",
       "      <th>text</th>\n",
       "    </tr>\n",
       "  </thead>\n",
       "  <tbody>\n",
       "  </tbody>\n",
       "</table>\n",
       "</div>"
      ],
      "text/plain": [
       "Empty DataFrame\n",
       "Columns: [sentiment, text]\n",
       "Index: []"
      ]
     },
     "execution_count": 3,
     "metadata": {},
     "output_type": "execute_result"
    }
   ],
   "source": [
    "data.isnull()[data.isnull().eq(True).any(1)]"
   ]
  },
  {
   "cell_type": "markdown",
   "metadata": {},
   "source": [
    "Ahora que tenemos el conjunto con una preparación inicial, utilizaremos herramientas que nos ofrece la librería *pandas* ,*seaborn* y *matplotpy* para visualizar gráficamente los datos."
   ]
  },
  {
   "cell_type": "markdown",
   "metadata": {},
   "source": [
    "#### Exploración de datos"
   ]
  },
  {
   "cell_type": "markdown",
   "metadata": {},
   "source": [
    "Primero calcularemos la longitud de cada tweet, buscando alguna relación entre la longitud y el sentimiento asignado:"
   ]
  },
  {
   "cell_type": "code",
   "execution_count": 4,
   "metadata": {},
   "outputs": [],
   "source": [
    "import matplotlib.pyplot as plt\n",
    "%matplotlib inline\n",
    "import seaborn as sns\n",
    "sns.set(style='whitegrid')"
   ]
  },
  {
   "cell_type": "markdown",
   "metadata": {},
   "source": [
    "Veremos a continuación una gráfica que muestra la distribución de la longitud de tweets, de forma que determinemos la longitud \"normal\" de los mismos."
   ]
  },
  {
   "cell_type": "code",
   "execution_count": 5,
   "metadata": {},
   "outputs": [
    {
     "data": {
      "text/plain": [
       "<matplotlib.axes._subplots.AxesSubplot at 0x7f883429fa90>"
      ]
     },
     "execution_count": 5,
     "metadata": {},
     "output_type": "execute_result"
    },
    {
     "data": {
      "image/png": "[encoded data removed]",
      "text/plain": [
       "<Figure size 432x288 with 1 Axes>"
      ]
     },
     "metadata": {},
     "output_type": "display_data"
    }
   ],
   "source": [
    "data['tweet_length'] = data['text'].str.len()\n",
    "sns.distplot(data['tweet_length'])"
   ]
  },
  {
   "cell_type": "markdown",
   "metadata": {},
   "source": [
    "De dicha gráfica podemos establecer que la longitud normal de un tweet suele estar por debajo de 150 caracteres. Es decir, la mayor parte de los tweets son opiniones directas y contundentes, sin mucho contenido. Esto implica que, a la hora del análisis, las palabras relevantes no serán abundantes."
   ]
  },
  {
   "cell_type": "markdown",
   "metadata": {},
   "source": [
    "Veremos ahora un gráfico de barras para comprobar la frecuencia de aparición de cada etiqueta."
   ]
  },
  {
   "cell_type": "code",
   "execution_count": 6,
   "metadata": {
    "scrolled": true
   },
   "outputs": [
    {
     "data": {
      "text/plain": [
       "<matplotlib.axes._subplots.AxesSubplot at 0x7f880b287210>"
      ]
     },
     "execution_count": 6,
     "metadata": {},
     "output_type": "execute_result"
    },
    {
     "data": {
      "image/png": "[encoded data removed]",
      "text/plain": [
       "<Figure size 432x288 with 1 Axes>"
      ]
     },
     "metadata": {},
     "output_type": "display_data"
    }
   ],
   "source": [
    "aux = data.groupby('sentiment').count()\n",
    "sns.barplot(data = aux, x = aux.index, y = 'text')"
   ]
  },
  {
   "cell_type": "markdown",
   "metadata": {},
   "source": [
    "Como la diferencia no es sumamente notoria y este informe pretende enseñar los pasos más que resultados admirables, no vamos a editar más el conjunto de datos aunque, de ser necesario, se eliminarían frases aleatorias de los tipos que correspondan para tener un conjunto más igualado. \n",
    "\n",
    "Es importante recalcar que esto último no siempre es necesario, pues las frecuencias de aparición de cada tipo a veces son unas mayores que otras de forma natural"
   ]
  },
  {
   "cell_type": "markdown",
   "metadata": {},
   "source": [
    "Para acabar, mostraremos una gráfica que representa de forma cruzada las medidas anteriores, para buscar alguna relación entre el sentimiento y el tamaño del tweet"
   ]
  },
  {
   "cell_type": "code",
   "execution_count": 7,
   "metadata": {},
   "outputs": [
    {
     "data": {
      "text/plain": [
       "<matplotlib.axes._subplots.AxesSubplot at 0x7f880b23cf50>"
      ]
     },
     "execution_count": 7,
     "metadata": {},
     "output_type": "execute_result"
    },
    {
     "data": {
      "image/png": "[encoded data removed]",
      "text/plain": [
       "<Figure size 432x288 with 1 Axes>"
      ]
     },
     "metadata": {},
     "output_type": "display_data"
    }
   ],
   "source": [
    "sns.boxplot(data=data, x='tweet_length', y='sentiment')"
   ]
  },
  {
   "cell_type": "markdown",
   "metadata": {},
   "source": [
    "__NOTA__: Es necesario remarcar que la precisión del modelo se verá en su mayor parte afectada por la calidad del conjunto de datos de entrada. Sin embargo, los datasets de sentimiento públicos para textos en español son bastante escasos y de una calidad media. Se avisa que la precisión final del modelo no será muy alta debido a esto. Más información en el apartado de consideraciones"
   ]
  },
  {
   "cell_type": "markdown",
   "metadata": {},
   "source": [
    "## PRE-PRECESAMIENTO DE LOS DATOS"
   ]
  },
  {
   "cell_type": "markdown",
   "metadata": {},
   "source": [
    "Antes de introducir estos datos a nuestro modelo, debemos aplicarles un preprocesamiento. Estamos trabajando con lenguaje natural, el cual es vasto y variante, por lo que hay que tomar una serie de medidas para normalizar los datos. \n",
    "\n",
    "En nuestro caso, recorreremos nuestro conjunto transformando las frases a minúscula y cambiando las letras con tilde por las mismas sin tilde, ya que al coger los datos de tweets, debemos tener en cuenta que no todo el mundo escribe correctamente. Dejaremos solo las letras (esto es, quitar emojis, links, hashtags, puntuación..) de forma que solo queden palabras y, una vez hecho, las lematizaremos, es decir, obtendremos el lexema o raíz. Esto resulta muy útil para que tokens que la máquina podría considerar distintos a priori ( _corrió, corrimos_ ) sean considerados correctamente como un mismo token ( _correr_ ).\n",
    "\n",
    "Por último, eliminaremos las llamadas _stopwords_ , que son palabras que suelen ser frecuentes pero no aportan nada de significado real, como pueden ser preposiciones, conjunciones..."
   ]
  },
  {
   "cell_type": "markdown",
   "metadata": {},
   "source": [
    "#### Modificación de caracteres"
   ]
  },
  {
   "cell_type": "markdown",
   "metadata": {},
   "source": [
    "Empecemos entonces con el paso a minúsculas:"
   ]
  },
  {
   "cell_type": "code",
   "execution_count": 8,
   "metadata": {},
   "outputs": [
    {
     "data": {
      "text/html": [
       "<div>\n",
       "<style scoped>\n",
       "    .dataframe tbody tr th:only-of-type {\n",
       "        vertical-align: middle;\n",
       "    }\n",
       "\n",
       "    .dataframe tbody tr th {\n",
       "        vertical-align: top;\n",
       "    }\n",
       "\n",
       "    .dataframe thead th {\n",
       "        text-align: right;\n",
       "    }\n",
       "</style>\n",
       "<table border=\"1\" class=\"dataframe\">\n",
       "  <thead>\n",
       "    <tr style=\"text-align: right;\">\n",
       "      <th></th>\n",
       "      <th>sentiment</th>\n",
       "      <th>text</th>\n",
       "      <th>tweet_length</th>\n",
       "      <th>tokens</th>\n",
       "    </tr>\n",
       "  </thead>\n",
       "  <tbody>\n",
       "    <tr>\n",
       "      <th>0</th>\n",
       "      <td>neutral</td>\n",
       "      <td>Trabajar en #Ryanair como #TMA: https://t.co/r...</td>\n",
       "      <td>63</td>\n",
       "      <td>trabajar en #ryanair como #tma: https://t.co/r...</td>\n",
       "    </tr>\n",
       "    <tr>\n",
       "      <th>1</th>\n",
       "      <td>neutral</td>\n",
       "      <td>@Iberia @FIONAFERRER Cuando gusten en Cancún s...</td>\n",
       "      <td>84</td>\n",
       "      <td>@iberia @fionaferrer cuando gusten en cancún s...</td>\n",
       "    </tr>\n",
       "    <tr>\n",
       "      <th>2</th>\n",
       "      <td>negative</td>\n",
       "      <td>Sabiais que @Iberia te trata muy bien en santi...</td>\n",
       "      <td>140</td>\n",
       "      <td>sabiais que @iberia te trata muy bien en santi...</td>\n",
       "    </tr>\n",
       "    <tr>\n",
       "      <th>3</th>\n",
       "      <td>negative</td>\n",
       "      <td>NUNCA NUNCA NUNCA pidáis el café de Ryanair.\\n...</td>\n",
       "      <td>76</td>\n",
       "      <td>nunca nunca nunca pidáis el café de ryanair.\\n...</td>\n",
       "    </tr>\n",
       "    <tr>\n",
       "      <th>4</th>\n",
       "      <td>positive</td>\n",
       "      <td>@cris_tortu @dakar @Iberia @Mitsubishi_ES @BFG...</td>\n",
       "      <td>140</td>\n",
       "      <td>@cris_tortu @dakar @iberia @mitsubishi_es @bfg...</td>\n",
       "    </tr>\n",
       "  </tbody>\n",
       "</table>\n",
       "</div>"
      ],
      "text/plain": [
       "  sentiment                                               text  tweet_length  \\\n",
       "0   neutral  Trabajar en #Ryanair como #TMA: https://t.co/r...            63   \n",
       "1   neutral  @Iberia @FIONAFERRER Cuando gusten en Cancún s...            84   \n",
       "2  negative  Sabiais que @Iberia te trata muy bien en santi...           140   \n",
       "3  negative  NUNCA NUNCA NUNCA pidáis el café de Ryanair.\\n...            76   \n",
       "4  positive  @cris_tortu @dakar @Iberia @Mitsubishi_ES @BFG...           140   \n",
       "\n",
       "                                              tokens  \n",
       "0  trabajar en #ryanair como #tma: https://t.co/r...  \n",
       "1  @iberia @fionaferrer cuando gusten en cancún s...  \n",
       "2  sabiais que @iberia te trata muy bien en santi...  \n",
       "3  nunca nunca nunca pidáis el café de ryanair.\\n...  \n",
       "4  @cris_tortu @dakar @iberia @mitsubishi_es @bfg...  "
      ]
     },
     "execution_count": 8,
     "metadata": {},
     "output_type": "execute_result"
    }
   ],
   "source": [
    "data['tokens'] = data['text'].str.lower()\n",
    "data.head()"
   ]
  },
  {
   "cell_type": "markdown",
   "metadata": {},
   "source": [
    "A continuación, definiremos una función que eliminará los números, signos de puntuación, \"_#_\", \"_@_\" y links. Para ello nos ayudaremos del módulo de expresiones regulares _re_"
   ]
  },
  {
   "cell_type": "code",
   "execution_count": 9,
   "metadata": {},
   "outputs": [],
   "source": [
    "import re\n",
    "\n",
    "def only_words(sentence):\n",
    "    url_reg = re.compile('http[s]?://(?:[a-zA-Z]|[0-9]|[$-_@.&+]|[!*\\(\\),]|(?:%[0-9a-fA-F][0-9a-fA-F]))+')\n",
    "    html_reg = re.compile('<.*?>|&([a-z0-9]+|#[0-9]{1,6}|#x[0-9a-f]{1,6});')\n",
    "    spaces_reg = re.compile('[ ]{2,}')\n",
    "    \n",
    "    result = url_reg.sub('', sentence)\n",
    "    result = html_reg.sub('', result)\n",
    "    result = spaces_reg.sub('', result)\n",
    "    result = re.findall('\\w+', result)\n",
    "    result = [''.join(x for x in i if x.isalpha()) for i in result]\n",
    "    result = ' '.join(result)\n",
    "    \n",
    "    return result"
   ]
  },
  {
   "cell_type": "code",
   "execution_count": 10,
   "metadata": {},
   "outputs": [
    {
     "name": "stdout",
     "output_type": "stream",
     "text": [
      "Esto es una prueba hecha por alvaro y dani  estudiantes para TIE y aquí un link falso\n"
     ]
    }
   ],
   "source": [
    "test= \"Esto es una prueba hecha por @alvaro y @dani, 2 estudiantes para #TIE y aquí un link falso: https://unaweb.com/tienda\"\n",
    "print(only_words(test))"
   ]
  },
  {
   "cell_type": "markdown",
   "metadata": {},
   "source": [
    "Como vemos, obtenemos un buen resultado con pocas líneas de código. Manejar con soltura expresiones regulares es algo que ayuda mucho de cara al preprocesamiento, pues nos permite obtener cómoda y exactamente las características de los datos que nos interesan."
   ]
  },
  {
   "cell_type": "code",
   "execution_count": 11,
   "metadata": {},
   "outputs": [
    {
     "data": {
      "text/html": [
       "<div>\n",
       "<style scoped>\n",
       "    .dataframe tbody tr th:only-of-type {\n",
       "        vertical-align: middle;\n",
       "    }\n",
       "\n",
       "    .dataframe tbody tr th {\n",
       "        vertical-align: top;\n",
       "    }\n",
       "\n",
       "    .dataframe thead th {\n",
       "        text-align: right;\n",
       "    }\n",
       "</style>\n",
       "<table border=\"1\" class=\"dataframe\">\n",
       "  <thead>\n",
       "    <tr style=\"text-align: right;\">\n",
       "      <th></th>\n",
       "      <th>sentiment</th>\n",
       "      <th>text</th>\n",
       "      <th>tweet_length</th>\n",
       "      <th>tokens</th>\n",
       "    </tr>\n",
       "  </thead>\n",
       "  <tbody>\n",
       "    <tr>\n",
       "      <th>0</th>\n",
       "      <td>neutral</td>\n",
       "      <td>Trabajar en #Ryanair como #TMA: https://t.co/r...</td>\n",
       "      <td>63</td>\n",
       "      <td>trabajar en ryanair como tma empleo</td>\n",
       "    </tr>\n",
       "    <tr>\n",
       "      <th>1</th>\n",
       "      <td>neutral</td>\n",
       "      <td>@Iberia @FIONAFERRER Cuando gusten en Cancún s...</td>\n",
       "      <td>84</td>\n",
       "      <td>iberia fionaferrer cuando gusten en cancún se ...</td>\n",
       "    </tr>\n",
       "    <tr>\n",
       "      <th>2</th>\n",
       "      <td>negative</td>\n",
       "      <td>Sabiais que @Iberia te trata muy bien en santi...</td>\n",
       "      <td>140</td>\n",
       "      <td>sabiais que iberia te trata muy bien en santia...</td>\n",
       "    </tr>\n",
       "    <tr>\n",
       "      <th>3</th>\n",
       "      <td>negative</td>\n",
       "      <td>NUNCA NUNCA NUNCA pidáis el café de Ryanair.\\n...</td>\n",
       "      <td>76</td>\n",
       "      <td>nunca nunca nunca pidáis el café de ryanair bu...</td>\n",
       "    </tr>\n",
       "  </tbody>\n",
       "</table>\n",
       "</div>"
      ],
      "text/plain": [
       "  sentiment                                               text  tweet_length  \\\n",
       "0   neutral  Trabajar en #Ryanair como #TMA: https://t.co/r...            63   \n",
       "1   neutral  @Iberia @FIONAFERRER Cuando gusten en Cancún s...            84   \n",
       "2  negative  Sabiais que @Iberia te trata muy bien en santi...           140   \n",
       "3  negative  NUNCA NUNCA NUNCA pidáis el café de Ryanair.\\n...            76   \n",
       "\n",
       "                                              tokens  \n",
       "0                trabajar en ryanair como tma empleo  \n",
       "1  iberia fionaferrer cuando gusten en cancún se ...  \n",
       "2  sabiais que iberia te trata muy bien en santia...  \n",
       "3  nunca nunca nunca pidáis el café de ryanair bu...  "
      ]
     },
     "execution_count": 11,
     "metadata": {},
     "output_type": "execute_result"
    }
   ],
   "source": [
    "data['tokens'] = data['tokens'].apply(only_words)\n",
    "data.head(4)"
   ]
  },
  {
   "cell_type": "markdown",
   "metadata": {},
   "source": [
    "__NOTA__ : Según la intención del analizador, puede que no nos interese eliminar las menciones. Por ejemplo, si lo que queremos es obtener la opinión de distintas compañías de vuelo utilizando este dataset, nos interesa eliminar únicamente el símbolo \"@\" pero dejar el nombre \"iberia\", \"ryanair\"... Si nuestro analizador esta enfocado a opiniones en Twitter es una buena idea dejar los nombres de usuario y hashtags sin su respectivo símbolo. En nuestro caso da un poco igual pues lo que interesa es mostrar el proceso de creación y predicción del modelo, pero se recomienda esforzarse en esta parte del preprocesamiento que utiliza expresiones regulares, pues puede modificar los resultados notablemente."
   ]
  },
  {
   "cell_type": "markdown",
   "metadata": {},
   "source": [
    "#### Eliminación de stop words"
   ]
  },
  {
   "cell_type": "markdown",
   "metadata": {},
   "source": [
    "Para la eliminación de _stopwords_ nos apoyaremos en la herramienta _spaCy_ . Esta herramienta es muy potente cuando se trata de procesar lenguaje natural. Es capaz incluso de realizar análisis semántico cuando el texto está correctamente escrito y además con una precisión asombrosa. Sin embargo, nuestros datos proceden de _tweets_ así que únicamente utilizaremos su lematizador y su lista de _stopwords_.\n",
    "\n",
    "Una vez más, encontramos dificultades dado el idioma de nuestro texto. Sin embargo, _spaCy_ ofrece también un módulo en español, aunque no tan bueno como el inglés dada la complejidad de nuestro lenguaje. Este módulo puede ser descargado con: _(python -m spacy download es_core_news_md)_"
   ]
  },
  {
   "cell_type": "code",
   "execution_count": 12,
   "metadata": {},
   "outputs": [],
   "source": [
    "import spacy\n",
    "from spacy.lang.es.stop_words import STOP_WORDS\n",
    "\n",
    "#Esto lo usaremos para la lematización\n",
    "nlp = spacy.load('es_core_news_md')\n",
    "\n",
    "def remove_stop_words(sentence):\n",
    "    result = \"\"\n",
    "    if sentence != None:\n",
    "        sentence = sentence.split(\" \")\n",
    "        result = list(\n",
    "        filter(lambda l: (l not in STOP_WORDS and len(l) > 2), sentence))\n",
    "        result = ' '.join(result)\n",
    "    return result"
   ]
  },
  {
   "cell_type": "code",
   "execution_count": 13,
   "metadata": {},
   "outputs": [
    {
     "name": "stdout",
     "output_type": "stream",
     "text": [
      "test funcionamiento función elimina stopwords\n"
     ]
    }
   ],
   "source": [
    "test = \"esto es un test para ver el funcionamiento de la función que elimina stopwords\"\n",
    "print(remove_stop_words(test))"
   ]
  },
  {
   "cell_type": "markdown",
   "metadata": {},
   "source": [
    "Así pues, eliminamos las _stopwords_ de nuestro conjunto de datos para posteriormente, aplicamos la lematización."
   ]
  },
  {
   "cell_type": "code",
   "execution_count": 14,
   "metadata": {
    "scrolled": true
   },
   "outputs": [
    {
     "data": {
      "text/html": [
       "<div>\n",
       "<style scoped>\n",
       "    .dataframe tbody tr th:only-of-type {\n",
       "        vertical-align: middle;\n",
       "    }\n",
       "\n",
       "    .dataframe tbody tr th {\n",
       "        vertical-align: top;\n",
       "    }\n",
       "\n",
       "    .dataframe thead th {\n",
       "        text-align: right;\n",
       "    }\n",
       "</style>\n",
       "<table border=\"1\" class=\"dataframe\">\n",
       "  <thead>\n",
       "    <tr style=\"text-align: right;\">\n",
       "      <th></th>\n",
       "      <th>sentiment</th>\n",
       "      <th>text</th>\n",
       "      <th>tweet_length</th>\n",
       "      <th>tokens</th>\n",
       "    </tr>\n",
       "  </thead>\n",
       "  <tbody>\n",
       "    <tr>\n",
       "      <th>0</th>\n",
       "      <td>neutral</td>\n",
       "      <td>Trabajar en #Ryanair como #TMA: https://t.co/r...</td>\n",
       "      <td>63</td>\n",
       "      <td>ryanair tma</td>\n",
       "    </tr>\n",
       "    <tr>\n",
       "      <th>1</th>\n",
       "      <td>neutral</td>\n",
       "      <td>@Iberia @FIONAFERRER Cuando gusten en Cancún s...</td>\n",
       "      <td>84</td>\n",
       "      <td>iberia fionaferrer gusten cancún viaja disfruta</td>\n",
       "    </tr>\n",
       "    <tr>\n",
       "      <th>2</th>\n",
       "      <td>negative</td>\n",
       "      <td>Sabiais que @Iberia te trata muy bien en santi...</td>\n",
       "      <td>140</td>\n",
       "      <td>sabiais iberia santiago chile cambia asiento m...</td>\n",
       "    </tr>\n",
       "    <tr>\n",
       "      <th>3</th>\n",
       "      <td>negative</td>\n",
       "      <td>NUNCA NUNCA NUNCA pidáis el café de Ryanair.\\n...</td>\n",
       "      <td>76</td>\n",
       "      <td>pidáis café ryanair vendan bordo</td>\n",
       "    </tr>\n",
       "    <tr>\n",
       "      <th>4</th>\n",
       "      <td>positive</td>\n",
       "      <td>@cris_tortu @dakar @Iberia @Mitsubishi_ES @BFG...</td>\n",
       "      <td>140</td>\n",
       "      <td>cristortu dakar iberia mitsubishies bfgoodrich...</td>\n",
       "    </tr>\n",
       "  </tbody>\n",
       "</table>\n",
       "</div>"
      ],
      "text/plain": [
       "  sentiment                                               text  tweet_length  \\\n",
       "0   neutral  Trabajar en #Ryanair como #TMA: https://t.co/r...            63   \n",
       "1   neutral  @Iberia @FIONAFERRER Cuando gusten en Cancún s...            84   \n",
       "2  negative  Sabiais que @Iberia te trata muy bien en santi...           140   \n",
       "3  negative  NUNCA NUNCA NUNCA pidáis el café de Ryanair.\\n...            76   \n",
       "4  positive  @cris_tortu @dakar @Iberia @Mitsubishi_ES @BFG...           140   \n",
       "\n",
       "                                              tokens  \n",
       "0                                        ryanair tma  \n",
       "1    iberia fionaferrer gusten cancún viaja disfruta  \n",
       "2  sabiais iberia santiago chile cambia asiento m...  \n",
       "3                   pidáis café ryanair vendan bordo  \n",
       "4  cristortu dakar iberia mitsubishies bfgoodrich...  "
      ]
     },
     "execution_count": 14,
     "metadata": {},
     "output_type": "execute_result"
    }
   ],
   "source": [
    "data['tokens'] = data['tokens'].apply(remove_stop_words)\n",
    "data.head()"
   ]
  },
  {
   "cell_type": "markdown",
   "metadata": {},
   "source": [
    "Como vemos hay algunas palabras como \"sabíais\" que no aportan mucho al sentimiento pero que al proceder de un _tweet_ no están correctamente escritas y nuestro algoritmo no las filtra. De nuevo se remarca la importancia de la calidad de los datos y la complejidad de entrenar un modelo en nuestro idioma, por ejemplo, por las tildes. También es importante disponer de una buena lista de _stopwords_\n",
    "\n",
    "Aun así vemos que el proceso elimina efectivamente las palabras que menos interesan como conjunciones y preposiciones, pues tienen menos significado aún y además son bastante frecuentes."
   ]
  },
  {
   "cell_type": "markdown",
   "metadata": {},
   "source": [
    "#### Lematización"
   ]
  },
  {
   "cell_type": "markdown",
   "metadata": {},
   "source": [
    "La lematización es un proceso lingüístico que consiste en, dada una forma flexionada (es decir, en plural, en femenino, conjugada, etc), hallar el lema correspondiente. El lema es la forma que por convenio se acepta como representante de todas las formas flexionadas de una misma palabra.\n",
    "\n",
    "Esto es útil puesto que en nuestros conjuntos de datos encontraremos muchas palabras que significan lo mismo y, de cara a la extracción de features, nos interesa que estén representadas por una sola.\n",
    "\n",
    "Definiremos ahora, ayudándonos de _spaCy_ una funión para obtener los lexemas de las palabras."
   ]
  },
  {
   "cell_type": "code",
   "execution_count": 15,
   "metadata": {},
   "outputs": [],
   "source": [
    "def lematize(sentence):\n",
    "    doc = nlp(sentence)\n",
    "    result = \"\"\n",
    "    for token in doc:\n",
    "        result += token.lemma_ + \" \"\n",
    "    return result"
   ]
  },
  {
   "cell_type": "code",
   "execution_count": 16,
   "metadata": {},
   "outputs": [
    {
     "name": "stdout",
     "output_type": "stream",
     "text": [
      "Este ser uno test parir comprobar qué tal funcionar SpacY en español con alguno plural y alguno verbo comer correr y volar \n"
     ]
    }
   ],
   "source": [
    "test = \"Este era un test para comprobar qué tal funciona SpacY en español con algunos plurales y algunos verbos como corrieron y volaron\"\n",
    "print(lematize(test))"
   ]
  },
  {
   "cell_type": "markdown",
   "metadata": {},
   "source": [
    "Aunque la lematización es muy útil en el NLP, es un proceso costoso y lento, por lo que debe considerarse su uso. Además, no siempre obtiene los resultados esperados, como se ve en el test: \"test __para__ comprobar\" -> \"test __parir__ comprobar\"\n",
    "\n",
    "Es por esto que es importante eliminar la mayor parte de _stopwords_ antes de lematizar, aunque el proceso puede fallar igualmente"
   ]
  },
  {
   "cell_type": "markdown",
   "metadata": {},
   "source": [
    "A continuación procederemos a lematizar nuestro texto, cambiar formas verbales a infinitivo, sustantivos y adjetivos a singular, etc. "
   ]
  },
  {
   "cell_type": "code",
   "execution_count": 17,
   "metadata": {},
   "outputs": [
    {
     "data": {
      "text/html": [
       "<div>\n",
       "<style scoped>\n",
       "    .dataframe tbody tr th:only-of-type {\n",
       "        vertical-align: middle;\n",
       "    }\n",
       "\n",
       "    .dataframe tbody tr th {\n",
       "        vertical-align: top;\n",
       "    }\n",
       "\n",
       "    .dataframe thead th {\n",
       "        text-align: right;\n",
       "    }\n",
       "</style>\n",
       "<table border=\"1\" class=\"dataframe\">\n",
       "  <thead>\n",
       "    <tr style=\"text-align: right;\">\n",
       "      <th></th>\n",
       "      <th>sentiment</th>\n",
       "      <th>text</th>\n",
       "      <th>tweet_length</th>\n",
       "      <th>tokens</th>\n",
       "    </tr>\n",
       "  </thead>\n",
       "  <tbody>\n",
       "    <tr>\n",
       "      <th>0</th>\n",
       "      <td>neutral</td>\n",
       "      <td>Trabajar en #Ryanair como #TMA: https://t.co/r...</td>\n",
       "      <td>63</td>\n",
       "      <td>ryanair tma</td>\n",
       "    </tr>\n",
       "    <tr>\n",
       "      <th>1</th>\n",
       "      <td>neutral</td>\n",
       "      <td>@Iberia @FIONAFERRER Cuando gusten en Cancún s...</td>\n",
       "      <td>84</td>\n",
       "      <td>iberio fionaferrer gustar cancún viajar disfru...</td>\n",
       "    </tr>\n",
       "    <tr>\n",
       "      <th>2</th>\n",
       "      <td>negative</td>\n",
       "      <td>Sabiais que @Iberia te trata muy bien en santi...</td>\n",
       "      <td>140</td>\n",
       "      <td>sabiais iberio santiago chile cambiar asentir ...</td>\n",
       "    </tr>\n",
       "    <tr>\n",
       "      <th>3</th>\n",
       "      <td>negative</td>\n",
       "      <td>NUNCA NUNCA NUNCA pidáis el café de Ryanair.\\n...</td>\n",
       "      <td>76</td>\n",
       "      <td>pedir café ryanair vender bordar</td>\n",
       "    </tr>\n",
       "  </tbody>\n",
       "</table>\n",
       "</div>"
      ],
      "text/plain": [
       "  sentiment                                               text  tweet_length  \\\n",
       "0   neutral  Trabajar en #Ryanair como #TMA: https://t.co/r...            63   \n",
       "1   neutral  @Iberia @FIONAFERRER Cuando gusten en Cancún s...            84   \n",
       "2  negative  Sabiais que @Iberia te trata muy bien en santi...           140   \n",
       "3  negative  NUNCA NUNCA NUNCA pidáis el café de Ryanair.\\n...            76   \n",
       "\n",
       "                                              tokens  \n",
       "0                                       ryanair tma   \n",
       "1  iberio fionaferrer gustar cancún viajar disfru...  \n",
       "2  sabiais iberio santiago chile cambiar asentir ...  \n",
       "3                  pedir café ryanair vender bordar   "
      ]
     },
     "execution_count": 17,
     "metadata": {},
     "output_type": "execute_result"
    }
   ],
   "source": [
    "data['tokens'] = data['tokens'].apply(lematize)\n",
    "data.head(4)"
   ]
  },
  {
   "cell_type": "markdown",
   "metadata": {},
   "source": [
    "#### Últimos retoques del preprocesamiento"
   ]
  },
  {
   "cell_type": "markdown",
   "metadata": {},
   "source": [
    "Añadiremos una función más al procesamiento, consistente en eliminar las tildes, más aún trabajando con _tweets_ que probablemente estén mal escritos. Es importante realizar este paso tras la eliminación de _stopwords_ y la lematización, pues sus librerías requieren que las palabras estén correctamente escritas."
   ]
  },
  {
   "cell_type": "code",
   "execution_count": 18,
   "metadata": {},
   "outputs": [],
   "source": [
    "def remove_accents(sentence):\n",
    "    replacements = {\n",
    "        \"á\" : \"a\",\n",
    "        \"é\" : \"e\",\n",
    "        \"í\" : \"i\",\n",
    "        \"ó\" : \"o\",\n",
    "        \"ú\" : \"u\",\n",
    "    }\n",
    "    for i,j in replacements.items():\n",
    "        sentence = sentence.replace (i,j)\n",
    "    return sentence"
   ]
  },
  {
   "cell_type": "code",
   "execution_count": 19,
   "metadata": {},
   "outputs": [
    {
     "data": {
      "text/html": [
       "<div>\n",
       "<style scoped>\n",
       "    .dataframe tbody tr th:only-of-type {\n",
       "        vertical-align: middle;\n",
       "    }\n",
       "\n",
       "    .dataframe tbody tr th {\n",
       "        vertical-align: top;\n",
       "    }\n",
       "\n",
       "    .dataframe thead th {\n",
       "        text-align: right;\n",
       "    }\n",
       "</style>\n",
       "<table border=\"1\" class=\"dataframe\">\n",
       "  <thead>\n",
       "    <tr style=\"text-align: right;\">\n",
       "      <th></th>\n",
       "      <th>sentiment</th>\n",
       "      <th>text</th>\n",
       "      <th>tweet_length</th>\n",
       "      <th>tokens</th>\n",
       "    </tr>\n",
       "  </thead>\n",
       "  <tbody>\n",
       "    <tr>\n",
       "      <th>0</th>\n",
       "      <td>neutral</td>\n",
       "      <td>Trabajar en #Ryanair como #TMA: https://t.co/r...</td>\n",
       "      <td>63</td>\n",
       "      <td>ryanair tma</td>\n",
       "    </tr>\n",
       "    <tr>\n",
       "      <th>1</th>\n",
       "      <td>neutral</td>\n",
       "      <td>@Iberia @FIONAFERRER Cuando gusten en Cancún s...</td>\n",
       "      <td>84</td>\n",
       "      <td>iberio fionaferrer gustar cancun viajar disfru...</td>\n",
       "    </tr>\n",
       "    <tr>\n",
       "      <th>2</th>\n",
       "      <td>negative</td>\n",
       "      <td>Sabiais que @Iberia te trata muy bien en santi...</td>\n",
       "      <td>140</td>\n",
       "      <td>sabiais iberio santiago chile cambiar asentir ...</td>\n",
       "    </tr>\n",
       "    <tr>\n",
       "      <th>3</th>\n",
       "      <td>negative</td>\n",
       "      <td>NUNCA NUNCA NUNCA pidáis el café de Ryanair.\\n...</td>\n",
       "      <td>76</td>\n",
       "      <td>pedir cafe ryanair vender bordar</td>\n",
       "    </tr>\n",
       "  </tbody>\n",
       "</table>\n",
       "</div>"
      ],
      "text/plain": [
       "  sentiment                                               text  tweet_length  \\\n",
       "0   neutral  Trabajar en #Ryanair como #TMA: https://t.co/r...            63   \n",
       "1   neutral  @Iberia @FIONAFERRER Cuando gusten en Cancún s...            84   \n",
       "2  negative  Sabiais que @Iberia te trata muy bien en santi...           140   \n",
       "3  negative  NUNCA NUNCA NUNCA pidáis el café de Ryanair.\\n...            76   \n",
       "\n",
       "                                              tokens  \n",
       "0                                       ryanair tma   \n",
       "1  iberio fionaferrer gustar cancun viajar disfru...  \n",
       "2  sabiais iberio santiago chile cambiar asentir ...  \n",
       "3                  pedir cafe ryanair vender bordar   "
      ]
     },
     "execution_count": 19,
     "metadata": {},
     "output_type": "execute_result"
    }
   ],
   "source": [
    "data['tokens'] = data['tokens'].apply(remove_accents)\n",
    "data.head(4)"
   ]
  },
  {
   "cell_type": "markdown",
   "metadata": {},
   "source": [
    "Por último, eliminaremos aquellas oraciones que hayan quedado vacías tras el preprocesamiento y, una vez hecho esto, podremos comenzar a crear nuestro modelo clasificador"
   ]
  },
  {
   "cell_type": "code",
   "execution_count": 20,
   "metadata": {},
   "outputs": [
    {
     "data": {
      "text/html": [
       "<div>\n",
       "<style scoped>\n",
       "    .dataframe tbody tr th:only-of-type {\n",
       "        vertical-align: middle;\n",
       "    }\n",
       "\n",
       "    .dataframe tbody tr th {\n",
       "        vertical-align: top;\n",
       "    }\n",
       "\n",
       "    .dataframe thead th {\n",
       "        text-align: right;\n",
       "    }\n",
       "</style>\n",
       "<table border=\"1\" class=\"dataframe\">\n",
       "  <thead>\n",
       "    <tr style=\"text-align: right;\">\n",
       "      <th></th>\n",
       "      <th>sentiment</th>\n",
       "      <th>text</th>\n",
       "      <th>tweet_length</th>\n",
       "      <th>tokens</th>\n",
       "    </tr>\n",
       "  </thead>\n",
       "  <tbody>\n",
       "    <tr>\n",
       "      <th>0</th>\n",
       "      <td>neutral</td>\n",
       "      <td>Trabajar en #Ryanair como #TMA: https://t.co/r...</td>\n",
       "      <td>63</td>\n",
       "      <td>ryanair tma</td>\n",
       "    </tr>\n",
       "    <tr>\n",
       "      <th>1</th>\n",
       "      <td>neutral</td>\n",
       "      <td>@Iberia @FIONAFERRER Cuando gusten en Cancún s...</td>\n",
       "      <td>84</td>\n",
       "      <td>iberio fionaferrer gustar cancun viajar disfru...</td>\n",
       "    </tr>\n",
       "    <tr>\n",
       "      <th>2</th>\n",
       "      <td>negative</td>\n",
       "      <td>Sabiais que @Iberia te trata muy bien en santi...</td>\n",
       "      <td>140</td>\n",
       "      <td>sabiais iberio santiago chile cambiar asentir ...</td>\n",
       "    </tr>\n",
       "    <tr>\n",
       "      <th>3</th>\n",
       "      <td>negative</td>\n",
       "      <td>NUNCA NUNCA NUNCA pidáis el café de Ryanair.\\n...</td>\n",
       "      <td>76</td>\n",
       "      <td>pedir cafe ryanair vender bordar</td>\n",
       "    </tr>\n",
       "    <tr>\n",
       "      <th>4</th>\n",
       "      <td>positive</td>\n",
       "      <td>@cris_tortu @dakar @Iberia @Mitsubishi_ES @BFG...</td>\n",
       "      <td>140</td>\n",
       "      <td>cristortu dakar iberio mitsubishies bfgoodrich...</td>\n",
       "    </tr>\n",
       "  </tbody>\n",
       "</table>\n",
       "</div>"
      ],
      "text/plain": [
       "  sentiment                                               text  tweet_length  \\\n",
       "0   neutral  Trabajar en #Ryanair como #TMA: https://t.co/r...            63   \n",
       "1   neutral  @Iberia @FIONAFERRER Cuando gusten en Cancún s...            84   \n",
       "2  negative  Sabiais que @Iberia te trata muy bien en santi...           140   \n",
       "3  negative  NUNCA NUNCA NUNCA pidáis el café de Ryanair.\\n...            76   \n",
       "4  positive  @cris_tortu @dakar @Iberia @Mitsubishi_ES @BFG...           140   \n",
       "\n",
       "                                              tokens  \n",
       "0                                       ryanair tma   \n",
       "1  iberio fionaferrer gustar cancun viajar disfru...  \n",
       "2  sabiais iberio santiago chile cambiar asentir ...  \n",
       "3                  pedir cafe ryanair vender bordar   \n",
       "4  cristortu dakar iberio mitsubishies bfgoodrich...  "
      ]
     },
     "execution_count": 20,
     "metadata": {},
     "output_type": "execute_result"
    }
   ],
   "source": [
    "data = data[data['tokens'].map(lambda d: d != \"\")]\n",
    "data = data.reset_index()\n",
    "data = data.drop(columns={'index'})\n",
    "data.head()"
   ]
  },
  {
   "cell_type": "markdown",
   "metadata": {},
   "source": [
    "Es recomendable revisar la frecuencia de aparación de las etiquetas ya que hemos eliminado algunas entradas, simplemente para comprobar que el conjunto aún es válido y no tenemos que hacer modificaciones a mayores"
   ]
  },
  {
   "cell_type": "code",
   "execution_count": 21,
   "metadata": {},
   "outputs": [
    {
     "data": {
      "text/plain": [
       "<matplotlib.axes._subplots.AxesSubplot at 0x7f87e4d28210>"
      ]
     },
     "execution_count": 21,
     "metadata": {},
     "output_type": "execute_result"
    },
    {
     "data": {
      "image/png": "[encoded data removed]",
      "text/plain": [
       "<Figure size 432x288 with 1 Axes>"
      ]
     },
     "metadata": {},
     "output_type": "display_data"
    }
   ],
   "source": [
    "aux = data.groupby('sentiment').count()\n",
    "sns.barplot(data = aux, x = aux.index, y = 'text')"
   ]
  },
  {
   "cell_type": "markdown",
   "metadata": {},
   "source": [
    "Como vemos, si bien las frecuencias de aparición no son las más deseables, no varían mucho desde el estado inicial, por lo que nos sigue valiendo para entrenar el modelo"
   ]
  },
  {
   "cell_type": "markdown",
   "metadata": {},
   "source": [
    "No se nos debe olvidar añadir un campo que codifique el sentimiento, ya que el modelo entiende de números, no de palabras."
   ]
  },
  {
   "cell_type": "code",
   "execution_count": 22,
   "metadata": {},
   "outputs": [
    {
     "data": {
      "text/html": [
       "<div>\n",
       "<style scoped>\n",
       "    .dataframe tbody tr th:only-of-type {\n",
       "        vertical-align: middle;\n",
       "    }\n",
       "\n",
       "    .dataframe tbody tr th {\n",
       "        vertical-align: top;\n",
       "    }\n",
       "\n",
       "    .dataframe thead th {\n",
       "        text-align: right;\n",
       "    }\n",
       "</style>\n",
       "<table border=\"1\" class=\"dataframe\">\n",
       "  <thead>\n",
       "    <tr style=\"text-align: right;\">\n",
       "      <th></th>\n",
       "      <th>sentiment</th>\n",
       "      <th>text</th>\n",
       "      <th>tweet_length</th>\n",
       "      <th>tokens</th>\n",
       "      <th>sentiment_code</th>\n",
       "    </tr>\n",
       "  </thead>\n",
       "  <tbody>\n",
       "    <tr>\n",
       "      <th>0</th>\n",
       "      <td>neutral</td>\n",
       "      <td>Trabajar en #Ryanair como #TMA: https://t.co/r...</td>\n",
       "      <td>63</td>\n",
       "      <td>ryanair tma</td>\n",
       "      <td>0</td>\n",
       "    </tr>\n",
       "    <tr>\n",
       "      <th>1</th>\n",
       "      <td>neutral</td>\n",
       "      <td>@Iberia @FIONAFERRER Cuando gusten en Cancún s...</td>\n",
       "      <td>84</td>\n",
       "      <td>iberio fionaferrer gustar cancun viajar disfru...</td>\n",
       "      <td>0</td>\n",
       "    </tr>\n",
       "    <tr>\n",
       "      <th>2</th>\n",
       "      <td>negative</td>\n",
       "      <td>Sabiais que @Iberia te trata muy bien en santi...</td>\n",
       "      <td>140</td>\n",
       "      <td>sabiais iberio santiago chile cambiar asentir ...</td>\n",
       "      <td>-1</td>\n",
       "    </tr>\n",
       "    <tr>\n",
       "      <th>3</th>\n",
       "      <td>negative</td>\n",
       "      <td>NUNCA NUNCA NUNCA pidáis el café de Ryanair.\\n...</td>\n",
       "      <td>76</td>\n",
       "      <td>pedir cafe ryanair vender bordar</td>\n",
       "      <td>-1</td>\n",
       "    </tr>\n",
       "  </tbody>\n",
       "</table>\n",
       "</div>"
      ],
      "text/plain": [
       "  sentiment                                               text  tweet_length  \\\n",
       "0   neutral  Trabajar en #Ryanair como #TMA: https://t.co/r...            63   \n",
       "1   neutral  @Iberia @FIONAFERRER Cuando gusten en Cancún s...            84   \n",
       "2  negative  Sabiais que @Iberia te trata muy bien en santi...           140   \n",
       "3  negative  NUNCA NUNCA NUNCA pidáis el café de Ryanair.\\n...            76   \n",
       "\n",
       "                                              tokens  sentiment_code  \n",
       "0                                       ryanair tma                0  \n",
       "1  iberio fionaferrer gustar cancun viajar disfru...               0  \n",
       "2  sabiais iberio santiago chile cambiar asentir ...              -1  \n",
       "3                  pedir cafe ryanair vender bordar               -1  "
      ]
     },
     "execution_count": 22,
     "metadata": {},
     "output_type": "execute_result"
    }
   ],
   "source": [
    "codes = {\n",
    "    'positive': 1,\n",
    "    'neutral': 0,\n",
    "    'negative' : -1\n",
    "}\n",
    "data['sentiment_code'] = data['sentiment']\n",
    "data = data.replace({'sentiment_code' : codes})\n",
    "data.head(4)"
   ]
  },
  {
   "cell_type": "markdown",
   "metadata": {},
   "source": [
    "Antes de entrenar nuestro modelo, guardaremos el conjunto de datos mediante _pickle_, un sistema de de serialización de objetos en python que almacena su contenido en un fichero binario para poder recuperarlos fácilmente y no tener que pasar por el preprocesamiento de nuevo."
   ]
  },
  {
   "cell_type": "code",
   "execution_count": 23,
   "metadata": {},
   "outputs": [],
   "source": [
    "data.to_pickle(\"resources/sentiment_data.pickle\")"
   ]
  },
  {
   "cell_type": "markdown",
   "metadata": {},
   "source": [
    "Las funciones anteriores se pueden agrupar dentro de una mayor que realice todo el preprocesamiento necesario a cada oración, pero de esta forma es más claro para explicar cada parte. Aun así, como los datos de entrada que obtendrá el modelo para predecir el sentimiento también tienen que estar tokenizados, definiremos una función que haga todo de golpe:"
   ]
  },
  {
   "cell_type": "code",
   "execution_count": 24,
   "metadata": {},
   "outputs": [],
   "source": [
    "def tokenize(dataframe):\n",
    "    \"\"\"\n",
    "    La función tendrá como entrada un dataframe con una columna \"text\" que contendrá el texto crudo inicial.\n",
    "    Devolverá un dataframe similar pero con la columna \"tokens\" añadida.\n",
    "    \"\"\"\n",
    "    data = dataframe\n",
    "    \n",
    "    data['tokens'] = data['text'].str.lower()\n",
    "    data['tokens'] = data['tokens'].apply(only_words)\n",
    "    data['tokens'] = data['tokens'].apply(remove_stop_words)\n",
    "    data['tokens'] = data['tokens'].apply(lematize)\n",
    "    data['tokens'] = data['tokens'].apply(remove_accents)\n",
    "    \n",
    "    return data"
   ]
  },
  {
   "cell_type": "markdown",
   "metadata": {},
   "source": [
    "__NOTA__: Antes de continuar con la creación y entrenamiento del modelo debemos recordar que el preprocesamiento es una parte clave en el NLP y que, si bien cuanto más completo sea mejores resultados obtendremos, hay que adecuarlo a nuestras necesidades, pues puede suponer un coste en tiempo de computación bastante elevado."
   ]
  },
  {
   "cell_type": "markdown",
   "metadata": {},
   "source": [
    "## CREACIÓN Y ENTRENAMIENTO DEL MODELO"
   ]
  },
  {
   "cell_type": "markdown",
   "metadata": {},
   "source": [
    "Lo primero que debemos hacer llegado este punto es dividir nuestro conjunto de datos en dos subconjuntos, uno para el entrenamiento y otro para probar el modelo. A partir de ahora utilizaremos la librería *sklearn*, que es una biblioteca para aprendizaje automático de software libre para  Python. Incluye varios algoritmos de clasificación, regresión y análisis de grupos entre los cuales están máquinas de vectores de soporte, bosques aleatorios como el que usaremos, Gradient boosting, K-means y DBSCAN."
   ]
  },
  {
   "cell_type": "code",
   "execution_count": 25,
   "metadata": {},
   "outputs": [],
   "source": [
    "from sklearn.model_selection import train_test_split\n",
    "X_train, X_test, y_train, y_test = train_test_split(data['tokens'],\n",
    "                                                    data['sentiment_code'],\n",
    "                                                    test_size=0.10)"
   ]
  },
  {
   "cell_type": "markdown",
   "metadata": {},
   "source": [
    "Se debe tener cuidado a la hora de elegir el tamaño de los subconjuntos para que no haya sobreentrenamiento. En nuestro caso hemos decidido que el subconjunto de prueba suponga un 10% del total, mientras que el 90% restante se empleará para entrenar el modelo."
   ]
  },
  {
   "cell_type": "markdown",
   "metadata": {},
   "source": [
    "#### Extracción de características"
   ]
  },
  {
   "cell_type": "markdown",
   "metadata": {},
   "source": [
    "Ahora que tenemos las palabras relevantes (tokens) y el conjunto de datos divididos, implementaremos el modelo __TF-IDF__ (Term Frequency - Inverse Dicument Frequency). Mediante este modelo obtendremos las palabras clave con mayor frecuencia de aparición."
   ]
  },
  {
   "cell_type": "markdown",
   "metadata": {},
   "source": [
    "![title](resources/Images/2_TFIDF.jpeg)"
   ]
  },
  {
   "cell_type": "markdown",
   "metadata": {},
   "source": [
    "Como se dijo anteriormente se usará la librería _sklearn_ para crear el vectorizador. Dicho vectorizador realizará el proceso de extracción de features de los datos de entrada. De esta forma se convierten las palabras en números junto a su frecuencia de aparición en cada tweet y en toda la colección "
   ]
  },
  {
   "cell_type": "code",
   "execution_count": 26,
   "metadata": {},
   "outputs": [],
   "source": [
    "from sklearn.feature_extraction.text import TfidfVectorizer\n",
    "\n",
    "tfidf = TfidfVectorizer(encoding='utf-8',\n",
    "                        max_features=10000,\n",
    "                        norm='l2',\n",
    "                        sublinear_tf=True)"
   ]
  },
  {
   "cell_type": "markdown",
   "metadata": {},
   "source": [
    "Procedamos ahora a la extracción de features"
   ]
  },
  {
   "cell_type": "code",
   "execution_count": 27,
   "metadata": {},
   "outputs": [],
   "source": [
    "features_train = tfidf.fit_transform(X_train).toarray()\n",
    "labels_train = y_train\n",
    "features_test = tfidf.transform(X_test).toarray()\n",
    "labels_test = y_test"
   ]
  },
  {
   "cell_type": "markdown",
   "metadata": {},
   "source": [
    "Es interesante guardar también nuestro vectorizador que ya utiliza el conjunto de datos deseado de cara a cargarlo más tarde y ahorrar el proceso de crearlo."
   ]
  },
  {
   "cell_type": "code",
   "execution_count": 28,
   "metadata": {},
   "outputs": [],
   "source": [
    "import pickle\n",
    "with open('resources/tfidf.pickle', 'wb') as file_tfidf:\n",
    "    pickle.dump(tfidf, file_tfidf)"
   ]
  },
  {
   "cell_type": "markdown",
   "metadata": {},
   "source": [
    "También resulta interesante observarlas features que se han extraído para comprobar que el proceso seguido hasta ahora es correcto"
   ]
  },
  {
   "cell_type": "markdown",
   "metadata": {},
   "source": [
    "#### Algoritmo de clasificación"
   ]
  },
  {
   "cell_type": "markdown",
   "metadata": {},
   "source": [
    "Para la creación del modelo de clasificación hemos elegido, obviamente, un algoritmo de clasificación, el _RandomForestClassifier_. Este es un estimador que se ajusta a un número de clasificadores de árboles de decisión con varias submuestras de los datos. Utiliza el promedio para mejorar su precisión y el sobreentramiento del que hablamos anteriormente. El tamaño de la submuestra es siempre el mismo que el tamaño original de la muestra de entrada, aunque las muestras se extraen con reemplazo si bootstrap = True (por defecto)"
   ]
  },
  {
   "cell_type": "markdown",
   "metadata": {},
   "source": [
    "![title](resources/Images/3_RFC.png)"
   ]
  },
  {
   "cell_type": "code",
   "execution_count": 29,
   "metadata": {},
   "outputs": [
    {
     "data": {
      "text/plain": [
       "{'bootstrap': True,\n",
       " 'ccp_alpha': 0.0,\n",
       " 'class_weight': None,\n",
       " 'criterion': 'gini',\n",
       " 'max_depth': None,\n",
       " 'max_features': 'auto',\n",
       " 'max_leaf_nodes': None,\n",
       " 'max_samples': None,\n",
       " 'min_impurity_decrease': 0.0,\n",
       " 'min_impurity_split': None,\n",
       " 'min_samples_leaf': 1,\n",
       " 'min_samples_split': 2,\n",
       " 'min_weight_fraction_leaf': 0.0,\n",
       " 'n_estimators': 100,\n",
       " 'n_jobs': None,\n",
       " 'oob_score': False,\n",
       " 'random_state': None,\n",
       " 'verbose': 0,\n",
       " 'warm_start': False}"
      ]
     },
     "execution_count": 29,
     "metadata": {},
     "output_type": "execute_result"
    }
   ],
   "source": [
    "from sklearn.ensemble import RandomForestClassifier\n",
    "\n",
    "rfc = RandomForestClassifier()\n",
    "rfc.get_params()"
   ]
  },
  {
   "cell_type": "markdown",
   "metadata": {},
   "source": [
    "#### Validación cruzada y búsqueda de hiper-parámetros"
   ]
  },
  {
   "cell_type": "markdown",
   "metadata": {},
   "source": [
    "En la celda de arriba podemos ver los parámetros de nuestro objeto clasificador. En base a ellos creamos un pequeño diccionario con los posibles valores para utilizadrlo en una validación cruzada, obteniendo así la mejor combinación de hiper-parámetros, es decir, la de la precisión más alta."
   ]
  },
  {
   "cell_type": "code",
   "execution_count": 30,
   "metadata": {},
   "outputs": [],
   "source": [
    "params = {\n",
    "    'bootstrap': [True],\n",
    "    'criterion': ['gini', 'entropy'],\n",
    "    'max_features': ['auto', 'sqrt', 'log2'],\n",
    "    'n_estimators': [100],\n",
    "}"
   ]
  },
  {
   "cell_type": "markdown",
   "metadata": {},
   "source": [
    "Para la validación cruzada utilizaremos _GridSearchCV_ , también de la librería de _sklearn_ , que utiliza los posibles hiper-parámetros que le aportamos para decidir los que mejor encajan con nuestro conjunto de datos."
   ]
  },
  {
   "cell_type": "code",
   "execution_count": 31,
   "metadata": {},
   "outputs": [
    {
     "name": "stdout",
     "output_type": "stream",
     "text": [
      "{'bootstrap': True, 'criterion': 'entropy', 'max_features': 'log2', 'n_estimators': 100}\n",
      "[0.56593717 0.5646647  0.57554807 0.56310951 0.567774   0.57554827]\n"
     ]
    }
   ],
   "source": [
    "from sklearn.model_selection import GridSearchCV\n",
    "\n",
    "gridsearch = GridSearchCV(estimator = rfc,\n",
    "                          param_grid = params,\n",
    "                          cv = 2,\n",
    "                          n_jobs = 1)\n",
    "\n",
    "gridsearch.fit(features_train, labels_train)\n",
    "print(gridsearch.best_params_)\n",
    "print(gridsearch.cv_results_['mean_test_score'])"
   ]
  },
  {
   "cell_type": "markdown",
   "metadata": {},
   "source": [
    "Aunque lenta, si disponemos de tiempo y recursos es muy recomendable realizar una validación cruzada."
   ]
  },
  {
   "cell_type": "markdown",
   "metadata": {},
   "source": [
    "Una vez tenemos los mejores parámetros, creamos nuestro objeto _RandomForestClassifier_ definitivo y lo entrenamos con las features y etiquetas destinadas al entrenamiento."
   ]
  },
  {
   "cell_type": "code",
   "execution_count": 41,
   "metadata": {},
   "outputs": [
    {
     "data": {
      "text/plain": [
       "RandomForestClassifier(bootstrap=True, ccp_alpha=0.0, class_weight=None,\n",
       "                       criterion='entropy', max_depth=None, max_features='log2',\n",
       "                       max_leaf_nodes=None, max_samples=None,\n",
       "                       min_impurity_decrease=0.0, min_impurity_split=None,\n",
       "                       min_samples_leaf=1, min_samples_split=2,\n",
       "                       min_weight_fraction_leaf=0.0, n_estimators=100,\n",
       "                       n_jobs=None, oob_score=False, random_state=None,\n",
       "                       verbose=0, warm_start=False)"
      ]
     },
     "execution_count": 41,
     "metadata": {},
     "output_type": "execute_result"
    }
   ],
   "source": [
    "rfc = RandomForestClassifier(bootstrap = True, criterion = 'entropy', max_features = 'log2', n_estimators = 100)\n",
    "rfc.fit(features_train, labels_train)"
   ]
  },
  {
   "cell_type": "markdown",
   "metadata": {},
   "source": [
    "A continuación comprobaremos la precisión del modelo utilizando las features y etiquetas destinadas al test."
   ]
  },
  {
   "cell_type": "code",
   "execution_count": 42,
   "metadata": {},
   "outputs": [
    {
     "name": "stdout",
     "output_type": "stream",
     "text": [
      "0.5527318932655655\n"
     ]
    }
   ],
   "source": [
    "prediction = rfc.predict(features_test)\n",
    "print(rfc.score(features_test, labels_test))"
   ]
  },
  {
   "cell_type": "markdown",
   "metadata": {},
   "source": [
    "Como adelantamos al principio, dada la calidad de los datos no hemos obtenido muy buena precisión (55.27%). Una precisión aceptable para un modelo profesional debería superar el 75-80 % de precisión."
   ]
  },
  {
   "cell_type": "markdown",
   "metadata": {},
   "source": [
    "Igual que hicimos con los datos tokenizados y el vectorizador, guardaremos el modelo con el fin de cargarlo directamente para futuras predicciones y ahorrarnos todo este proceso"
   ]
  },
  {
   "cell_type": "code",
   "execution_count": 43,
   "metadata": {},
   "outputs": [],
   "source": [
    "with open('resources/rfc.pickle', 'wb') as file_rfc:\n",
    "    pickle.dump(rfc, file_rfc)"
   ]
  },
  {
   "cell_type": "markdown",
   "metadata": {},
   "source": [
    "## PREDICCIÓN"
   ]
  },
  {
   "cell_type": "markdown",
   "metadata": {},
   "source": [
    "Supongamos ahora que queremos clasificar un documento en cuanto a su sentimiento. Utilizaremos uno ya preparado con un conjunto de frases también procedentes de tweets."
   ]
  },
  {
   "cell_type": "code",
   "execution_count": 44,
   "metadata": {},
   "outputs": [
    {
     "data": {
      "text/html": [
       "<div>\n",
       "<style scoped>\n",
       "    .dataframe tbody tr th:only-of-type {\n",
       "        vertical-align: middle;\n",
       "    }\n",
       "\n",
       "    .dataframe tbody tr th {\n",
       "        vertical-align: top;\n",
       "    }\n",
       "\n",
       "    .dataframe thead th {\n",
       "        text-align: right;\n",
       "    }\n",
       "</style>\n",
       "<table border=\"1\" class=\"dataframe\">\n",
       "  <thead>\n",
       "    <tr style=\"text-align: right;\">\n",
       "      <th></th>\n",
       "      <th>text</th>\n",
       "    </tr>\n",
       "  </thead>\n",
       "  <tbody>\n",
       "    <tr>\n",
       "      <th>0</th>\n",
       "      <td>@Iberia Gracias por la respuesta: envié más de...</td>\n",
       "    </tr>\n",
       "    <tr>\n",
       "      <th>1</th>\n",
       "      <td>Celebrando los 90 años de @Iberia \\nFelicidade...</td>\n",
       "    </tr>\n",
       "    <tr>\n",
       "      <th>2</th>\n",
       "      <td>Iberia Express lanza una promoción de 5.000 bi...</td>\n",
       "    </tr>\n",
       "    <tr>\n",
       "      <th>3</th>\n",
       "      <td>Con @Iberia, mi destino a un solo click. ¡Dese...</td>\n",
       "    </tr>\n",
       "    <tr>\n",
       "      <th>4</th>\n",
       "      <td>@Iberia Muy bien. Muchas gracias</td>\n",
       "    </tr>\n",
       "  </tbody>\n",
       "</table>\n",
       "</div>"
      ],
      "text/plain": [
       "                                                text\n",
       "0  @Iberia Gracias por la respuesta: envié más de...\n",
       "1  Celebrando los 90 años de @Iberia \\nFelicidade...\n",
       "2  Iberia Express lanza una promoción de 5.000 bi...\n",
       "3  Con @Iberia, mi destino a un solo click. ¡Dese...\n",
       "4                   @Iberia Muy bien. Muchas gracias"
      ]
     },
     "execution_count": 44,
     "metadata": {},
     "output_type": "execute_result"
    }
   ],
   "source": [
    "tweets = pd.read_pickle('resources/test_tweets.pickle')\n",
    "tweets.head()"
   ]
  },
  {
   "cell_type": "markdown",
   "metadata": {},
   "source": [
    "En primer lugar, si los datos no están tokenizados, debemos tokenizarlos, es por donde debemos empezar. Aprovecharemos ahora la función que creamos anteriormente:"
   ]
  },
  {
   "cell_type": "code",
   "execution_count": 45,
   "metadata": {},
   "outputs": [
    {
     "data": {
      "text/html": [
       "<div>\n",
       "<style scoped>\n",
       "    .dataframe tbody tr th:only-of-type {\n",
       "        vertical-align: middle;\n",
       "    }\n",
       "\n",
       "    .dataframe tbody tr th {\n",
       "        vertical-align: top;\n",
       "    }\n",
       "\n",
       "    .dataframe thead th {\n",
       "        text-align: right;\n",
       "    }\n",
       "</style>\n",
       "<table border=\"1\" class=\"dataframe\">\n",
       "  <thead>\n",
       "    <tr style=\"text-align: right;\">\n",
       "      <th></th>\n",
       "      <th>text</th>\n",
       "      <th>tokens</th>\n",
       "    </tr>\n",
       "  </thead>\n",
       "  <tbody>\n",
       "    <tr>\n",
       "      <th>0</th>\n",
       "      <td>@Iberia Gracias por la respuesta: envié más de...</td>\n",
       "      <td>iberio gracia respuesta enviar detallar adjunt...</td>\n",
       "    </tr>\n",
       "    <tr>\n",
       "      <th>1</th>\n",
       "      <td>Celebrando los 90 años de @Iberia \\nFelicidade...</td>\n",
       "      <td>celebrar año iberio felicidad llevar año forma...</td>\n",
       "    </tr>\n",
       "    <tr>\n",
       "      <th>2</th>\n",
       "      <td>Iberia Express lanza una promoción de 5.000 bi...</td>\n",
       "      <td>iberio express lanzar promocion billete eurosv...</td>\n",
       "    </tr>\n",
       "    <tr>\n",
       "      <th>3</th>\n",
       "      <td>Con @Iberia, mi destino a un solo click. ¡Dese...</td>\n",
       "      <td>iberio destinar click deseadme suerte holaarge...</td>\n",
       "    </tr>\n",
       "    <tr>\n",
       "      <th>4</th>\n",
       "      <td>@Iberia Muy bien. Muchas gracias</td>\n",
       "      <td>iberio gracia</td>\n",
       "    </tr>\n",
       "  </tbody>\n",
       "</table>\n",
       "</div>"
      ],
      "text/plain": [
       "                                                text  \\\n",
       "0  @Iberia Gracias por la respuesta: envié más de...   \n",
       "1  Celebrando los 90 años de @Iberia \\nFelicidade...   \n",
       "2  Iberia Express lanza una promoción de 5.000 bi...   \n",
       "3  Con @Iberia, mi destino a un solo click. ¡Dese...   \n",
       "4                   @Iberia Muy bien. Muchas gracias   \n",
       "\n",
       "                                              tokens  \n",
       "0  iberio gracia respuesta enviar detallar adjunt...  \n",
       "1  celebrar año iberio felicidad llevar año forma...  \n",
       "2  iberio express lanzar promocion billete eurosv...  \n",
       "3  iberio destinar click deseadme suerte holaarge...  \n",
       "4                                     iberio gracia   "
      ]
     },
     "execution_count": 45,
     "metadata": {},
     "output_type": "execute_result"
    }
   ],
   "source": [
    "tweets = tokenize(tweets)\n",
    "tweets.head()"
   ]
  },
  {
   "cell_type": "markdown",
   "metadata": {},
   "source": [
    "A continuación, cargamos nuestro vectorizador para extraer las features del documento."
   ]
  },
  {
   "cell_type": "code",
   "execution_count": 46,
   "metadata": {},
   "outputs": [],
   "source": [
    "import pickle\n",
    "\n",
    "with open('resources/tfidf.pickle', 'rb') as f:\n",
    "    tfidf = pickle.load(f)\n",
    "    \n",
    "features = tfidf.transform(tweets['text']).toarray()"
   ]
  },
  {
   "cell_type": "markdown",
   "metadata": {},
   "source": [
    "Cargamos ahora nuestro clasificador y realizamos la predicción."
   ]
  },
  {
   "cell_type": "code",
   "execution_count": 47,
   "metadata": {},
   "outputs": [],
   "source": [
    "with open('resources/rfc.pickle', 'rb') as f:\n",
    "    rfc = pickle.load(f)\n",
    "    \n",
    "prediction = rfc.predict(features)"
   ]
  },
  {
   "cell_type": "markdown",
   "metadata": {},
   "source": [
    "Esta predicción aún está en números, por lo que debemos crear una función que la traduzca a un lenguaje que pueda entender un humano."
   ]
  },
  {
   "cell_type": "code",
   "execution_count": 48,
   "metadata": {},
   "outputs": [],
   "source": [
    "def human_prediction(prediction):\n",
    "\n",
    "    pos = 0\n",
    "    neu = 0\n",
    "    neg = 0\n",
    "\n",
    "    for p in prediction:\n",
    "        if p == -1:\n",
    "            neg += 1\n",
    "        elif p == 0:\n",
    "            neu += 1\n",
    "        elif p == 1:\n",
    "            pos += 1\n",
    "\n",
    "    pos_percentage = pos/len(prediction) \n",
    "    neu_percentage = neu/len(prediction)\n",
    "    neg_percentage = neg/len(prediction)\n",
    "\n",
    "    return {'pos':pos_percentage, 'neu':neu_percentage, 'neg': neg_percentage}"
   ]
  },
  {
   "cell_type": "code",
   "execution_count": 49,
   "metadata": {},
   "outputs": [
    {
     "name": "stdout",
     "output_type": "stream",
     "text": [
      "{'pos': 0.0, 'neu': 0.3333333333333333, 'neg': 0.6666666666666666}\n"
     ]
    }
   ],
   "source": [
    "print(human_prediction(prediction))"
   ]
  },
  {
   "cell_type": "markdown",
   "metadata": {},
   "source": [
    "Dicha predicción no tiene mucha precisión, como vimos anteriormente, pues en el documento de prueba había un tercio de cada tipo. Además, vemos que tiene tendencia a decidir que las frases son de tipo \"negativo\", algo que se puede esperar dado que gran parte del conjunto de entrenamiento estaba etiquetado de dicha forma, como se vio en la exploración de datos inicial. De aquí la importancia de hacer una exploración previa de los datos antes de preprocesarlos."
   ]
  },
  {
   "cell_type": "markdown",
   "metadata": {},
   "source": [
    "## CONSIDERACIONES"
   ]
  },
  {
   "cell_type": "markdown",
   "metadata": {},
   "source": [
    "Hemos aprendido en este informe los pasos básicos del proceso de crear un modelo clasificador, los cuales son:\n",
    "\n",
    "· Obtención y exploración de datos\n",
    "\n",
    "· Preprocesamiento de los mismos\n",
    "\n",
    "· Creación y entrenamiento del modelo\n",
    "\n",
    "· Predicción\n"
   ]
  },
  {
   "cell_type": "markdown",
   "metadata": {},
   "source": [
    "Es necesario remarcar una vez más la importancia del conjunto de datos de entrada, pues, como se ha visto, una vez se han preprocesado estos, el proceso no tiene excesiva ciencia. Un conjunto de datos amplio y de calidad mejorará notablemente la precisión de nuestro modelo, aunque por desgracia no hemos tenido acceso a algo así. "
   ]
  },
  {
   "cell_type": "markdown",
   "metadata": {},
   "source": [
    "A esto tenemos que sumarle que el preprocesamiento no es un paso que se lleve a cabo siempre igual, sino que debe ser adecuado a la finalidad de cada modelo. Nosotros hemos hecho un preprocesamiento generalizado con algunas de las funcionalidades que más se suelen ver pero repetimos que es importante adecuarlo a la finalidad del modelo y a los datos de entrada, pues el estado en el que estén los datos con los que se entrene el modelo influirá determinantemente en su precisión."
   ]
  },
  {
   "cell_type": "markdown",
   "metadata": {},
   "source": [
    "Una de las funcionalidades extra que se proponen son el manejo de negaciones, aunque no se ha mostrado dada su complejidad. Esto hace referencia a que la frase \"No me gustan las lentejas\", una vez que es preprocesada, podría seguramente perder el \"no\" del principio, cambiando completamente su significado. "
   ]
  },
  {
   "cell_type": "markdown",
   "metadata": {},
   "source": [
    "También hay que tener cuidado en el preprocesamiento con el orden en el que se tokenizan las frases. No es lo mismo lematizar y luego eliminar las _stopwords_ que al revés. En algunas ocasiones puede que ni si quiera querramos lematizar."
   ]
  },
  {
   "cell_type": "markdown",
   "metadata": {},
   "source": [
    "Por último, considerar que hay unos cuantos algoritmos más que solucionarían nuestro problema, clasificar por sentimiento documentos. Sin embargo, no hay una receta general para saber cuál de ellos usar. Lo suyo es informarse de las ventajas y desventajas de cada uno y realizar varios modelos con los mismos datos de prueba para determinar cuál obtiene una precisión mayor adecuandose a nuestra necesidad. Aun así, en este informe se ha decidido mostrar solo una forma, ya que si no el trabajo se extendería mucho."
   ]
  },
  {
   "cell_type": "markdown",
   "metadata": {},
   "source": [
    "## Referencias"
   ]
  },
  {
   "cell_type": "markdown",
   "metadata": {},
   "source": [
    "Kaggle - https://www.kaggle.com/\n",
    "\n",
    "Spanish Airlines Tweets Sentiment Analyis - https://www.kaggle.com/c/spanish-arilines-tweets-sentiment-analysis/data\n",
    "\n",
    "Seaborn - https://seaborn.pydata.org/\n",
    "\n",
    "Matplotlib - https://matplotlib.org/\n",
    "\n",
    "Pandas - https://pandas.pydata.org/\n",
    "\n",
    "Regex - https://docs.python.org/3/library/re.html\n",
    "\n",
    "SpaCy - https://spacy.io/\n",
    "\n",
    "SpaCY español - https://spacy.io/models/es\n",
    "\n",
    "Sklearn - https://scikit-learn.org/stable/\n",
    "\n",
    "TF-IDF - https://scikit-learn.org/stable/modules/generated/sklearn.feature_extraction.text.TfidfVectorizer.html\n",
    "\n",
    "RandomForestClassifer - https://scikit-learn.org/stable/modules/generated/sklearn.ensemble.RandomForestClassifier.html\n",
    "\n",
    "GridSearchCV - https://scikit-learn.org/stable/modules/generated/sklearn.model_selection.GridSearchCV.html"
   ]
  }
 ],
 "metadata": {
  "kernelspec": {
   "display_name": "Python 3",
   "language": "python",
   "name": "python3"
  },
  "language_info": {
   "codemirror_mode": {
    "name": "ipython",
    "version": 3
   },
   "file_extension": ".py",
   "mimetype": "text/x-python",
   "name": "python",
   "nbconvert_exporter": "python",
   "pygments_lexer": "ipython3",
   "version": "3.7.6"
  }
 },
 "nbformat": 4,
 "nbformat_minor": 4
}
